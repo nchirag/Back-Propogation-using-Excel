{
  "nbformat": 4,
  "nbformat_minor": 0,
  "metadata": {
    "colab": {
      "provenance": []
    },
    "kernelspec": {
      "name": "python3",
      "display_name": "Python 3"
    },
    "language_info": {
      "name": "python"
    }
  },
  "cells": [
    {
      "cell_type": "code",
      "source": [
        "y1_target = 0.01\n",
        "y2_target = 0.99"
      ],
      "metadata": {
        "id": "_JGGdMy-tWMu"
      },
      "execution_count": 24,
      "outputs": []
    },
    {
      "cell_type": "code",
      "execution_count": 96,
      "metadata": {
        "colab": {
          "base_uri": "https://localhost:8080/"
        },
        "id": "sALzKMkOn6Qg",
        "outputId": "2405cd7f-b5a0-4153-b1e5-2cd3d56c9fd9"
      },
      "outputs": [
        {
          "output_type": "stream",
          "name": "stdout",
          "text": [
            "Enter your input - 0.05\n",
            "Enter your input - 0.1\n",
            "You'r inputs are -  0.05 , 0.1\n"
          ]
        }
      ],
      "source": [
        "x1 = float(input(\"Enter your input - \"))\n",
        "x2 = float(input(\"Enter your input - \"))\n",
        "\n",
        "print(\"You'r inputs are - \",x1,\",\", x2)"
      ]
    },
    {
      "cell_type": "code",
      "source": [
        "w1 = 0.15\n",
        "w2 = 0.2\n",
        "w3 = 0.25\n",
        "w4 = 0.3"
      ],
      "metadata": {
        "id": "CmKkU4hHoRQr"
      },
      "execution_count": 97,
      "outputs": []
    },
    {
      "cell_type": "code",
      "source": [
        "b1 = 0.35\n",
        "b2 = 0.6"
      ],
      "metadata": {
        "id": "3uDHkadZo2KF"
      },
      "execution_count": 98,
      "outputs": []
    },
    {
      "cell_type": "code",
      "source": [
        "H1 = w1*x1 + w2*x2 + b1\n",
        "print(\"First Hiden layer - \",H1)\n",
        "\n",
        "H2 = round(w4*x2 + w3*x1 + b1,4)\n",
        "print(\"Second Hiden layer - \",H2)\n"
      ],
      "metadata": {
        "colab": {
          "base_uri": "https://localhost:8080/"
        },
        "id": "Bx4fBT5Jo80c",
        "outputId": "d7168b4d-64c4-4900-9cb0-54bc76c90044"
      },
      "execution_count": 99,
      "outputs": [
        {
          "output_type": "stream",
          "name": "stdout",
          "text": [
            "First Hiden layer -  0.3775\n",
            "Second Hiden layer -  0.3925\n"
          ]
        }
      ]
    },
    {
      "cell_type": "markdown",
      "source": [
        "### Applying Activation Function"
      ],
      "metadata": {
        "id": "tBtnzjgvqghI"
      }
    },
    {
      "cell_type": "code",
      "source": [
        "from math import e\n",
        "\n",
        "def sigmoid(x):\n",
        "  return 1 / (1 + e**-x)"
      ],
      "metadata": {
        "id": "UgzU5P6OpLZI"
      },
      "execution_count": 100,
      "outputs": []
    },
    {
      "cell_type": "code",
      "source": [
        "H1_final = sigmoid(H1)\n",
        "H2_final = sigmoid(H2)\n",
        "\n",
        "print(\"Activated H1 - \",H1_final)\n",
        "print(\"Activated H2 - \",H2_final)"
      ],
      "metadata": {
        "colab": {
          "base_uri": "https://localhost:8080/"
        },
        "id": "V10LmQJfq8cO",
        "outputId": "57c74f95-5f24-473d-ecae-ff0c058576c0"
      },
      "execution_count": 101,
      "outputs": [
        {
          "output_type": "stream",
          "name": "stdout",
          "text": [
            "Activated H1 -  0.5932699921071872\n",
            "Activated H2 -  0.596884378259767\n"
          ]
        }
      ]
    },
    {
      "cell_type": "code",
      "source": [
        "w5 = 0.4\n",
        "w6 = 0.45\n",
        "w7 = 0.5\n",
        "w8 = 0.55"
      ],
      "metadata": {
        "id": "NFNXfbA6rUC2"
      },
      "execution_count": 102,
      "outputs": []
    },
    {
      "cell_type": "code",
      "source": [
        "y1 = w5*H1_final + w6*H2_final + b2\n",
        "y2 = w7*H1_final + w8*H2_final + b2\n",
        "\n",
        "print(\"Output layer - \",y1)\n",
        "print(\"Output layer - \",y2)"
      ],
      "metadata": {
        "colab": {
          "base_uri": "https://localhost:8080/"
        },
        "id": "ltLvmivIrptU",
        "outputId": "e97298c9-d41f-4cd7-bccb-aec252d42b10"
      },
      "execution_count": 103,
      "outputs": [
        {
          "output_type": "stream",
          "name": "stdout",
          "text": [
            "Output layer -  1.10590596705977\n",
            "Output layer -  1.2249214040964653\n"
          ]
        }
      ]
    },
    {
      "cell_type": "markdown",
      "source": [
        "Applying Activation functions to the output layer\n"
      ],
      "metadata": {
        "id": "gGdm8x4KsCc2"
      }
    },
    {
      "cell_type": "code",
      "source": [
        "y1_final = sigmoid(y1)\n",
        "y2_final = sigmoid(y2)\n",
        "\n",
        "print(\"Activated Output layer - \",y1_final)\n",
        "print(\"Activated Output layer - \",y2_final)"
      ],
      "metadata": {
        "colab": {
          "base_uri": "https://localhost:8080/"
        },
        "id": "TvchlHTwrzg4",
        "outputId": "3fe8b049-cb5b-4b37-cc35-973ec2af5020"
      },
      "execution_count": 104,
      "outputs": [
        {
          "output_type": "stream",
          "name": "stdout",
          "text": [
            "Activated Output layer -  0.7513650695523157\n",
            "Activated Output layer -  0.7729284653214625\n"
          ]
        }
      ]
    },
    {
      "cell_type": "markdown",
      "source": [
        "## Loss Calculation"
      ],
      "metadata": {
        "id": "EHJ9FCnLsTsQ"
      }
    },
    {
      "cell_type": "code",
      "source": [
        "E1 = round(0.5*(y1_target - y1_final)**2,4)\n",
        "E2 = round(0.5*(y2_target - y2_final)**2,4)\n",
        "\n",
        "print(\"Loss1 - \",E1)\n",
        "print(\"Loss2 - \",E2)\n",
        "\n",
        "E_total = E1 + E2\n",
        "print(\"Total Loss - \",E_total)"
      ],
      "metadata": {
        "colab": {
          "base_uri": "https://localhost:8080/"
        },
        "id": "cIvQnLuGsQ0r",
        "outputId": "34bd7b7f-5169-4866-828e-a7ab9946a092"
      },
      "execution_count": 105,
      "outputs": [
        {
          "output_type": "stream",
          "name": "stdout",
          "text": [
            "Loss1 -  0.2748\n",
            "Loss2 -  0.0236\n",
            "Total Loss -  0.2984\n"
          ]
        }
      ]
    },
    {
      "cell_type": "markdown",
      "source": [
        "## Back Propogation"
      ],
      "metadata": {
        "id": "6e5QAm1buC-I"
      }
    },
    {
      "cell_type": "code",
      "source": [
        "learning_rate = 0.5"
      ],
      "metadata": {
        "id": "1f4ipHRstql_"
      },
      "execution_count": 106,
      "outputs": []
    },
    {
      "cell_type": "code",
      "source": [
        "def update_w5(y1_target, y1_final, H1_final, w5, learning_rate):\n",
        "\n",
        "  dE_total_dy1_final = -(y1_target - y1_final)\n",
        "  dy1_final_dy1 = y1_final * (1 - y1_final)\n",
        "  dy1_dw5 = H1_final\n",
        "\n",
        "\n",
        "  dE_total_dw5 = dE_total_dy1_final * dy1_final_dy1 * dy1_dw5\n",
        "\n",
        "\n",
        "  w5_new = round(w5 - learning_rate * dE_total_dw5, 4)\n",
        "\n",
        "  return w5_new"
      ],
      "metadata": {
        "id": "RwEgAST2upjy"
      },
      "execution_count": 107,
      "outputs": []
    },
    {
      "cell_type": "code",
      "source": [
        "w5_new = update_w5(y1_target, y1_final, H1_final, w5, learning_rate)\n",
        "print(\"Updated w5 - \",w5_new)"
      ],
      "metadata": {
        "colab": {
          "base_uri": "https://localhost:8080/"
        },
        "id": "IZpdNoaAvptN",
        "outputId": "63c2591e-5eed-49e6-b206-7d2e7603740e"
      },
      "execution_count": 108,
      "outputs": [
        {
          "output_type": "stream",
          "name": "stdout",
          "text": [
            "Updated w5 -  0.3589\n"
          ]
        }
      ]
    },
    {
      "cell_type": "code",
      "source": [
        "def update_w6(y1_target, y1_final, H1_final, w6, learning_rate):\n",
        "\n",
        "  dE_total_dy1_final = -(y1_target - y1_final)\n",
        "  dy1_final_dy1 = y1_final * (1 - y1_final)\n",
        "  dy1_dw6 = H1_final\n",
        "\n",
        "\n",
        "  dE_total_dw6 = dE_total_dy1_final * dy1_final_dy1 * dy1_dw6\n",
        "\n",
        "  w6_new = round(w6 - learning_rate * dE_total_dw6, 4)\n",
        "\n",
        "  return w6_new"
      ],
      "metadata": {
        "id": "w_mcwdVOwOMI"
      },
      "execution_count": 109,
      "outputs": []
    },
    {
      "cell_type": "code",
      "source": [
        "w6_new = update_w6(y1_target, y1_final, H1_final, w6, learning_rate)\n",
        "print(\"Updated w6 - \",w6_new)"
      ],
      "metadata": {
        "colab": {
          "base_uri": "https://localhost:8080/"
        },
        "id": "lXnbaiyExTgB",
        "outputId": "c7f58a77-15dd-462e-e2ac-79dbf57fd5ce"
      },
      "execution_count": 110,
      "outputs": [
        {
          "output_type": "stream",
          "name": "stdout",
          "text": [
            "Updated w6 -  0.4089\n"
          ]
        }
      ]
    },
    {
      "cell_type": "code",
      "source": [
        "def updated_w7(y2_target, y2_final, H1_final, w7, learning_rate):\n",
        "  dE_total_dy2_final = -(y2_target - y2_final)\n",
        "  dy2_final_dy2 = y2_final * (1 - y2_final)\n",
        "  dy2_dw7 = H1_final\n",
        "\n",
        "  dE_total_dw7 = dE_total_dy2_final * dy2_final_dy2 * dy2_dw7\n",
        "\n",
        "  w7_new = round(w7 - learning_rate * dE_total_dw7, 4)\n",
        "\n",
        "  return w7_new"
      ],
      "metadata": {
        "id": "X0O0AhIOxVvs"
      },
      "execution_count": 111,
      "outputs": []
    },
    {
      "cell_type": "code",
      "source": [
        "w7_new = updated_w7(y2_target, y2_final, H1_final, w7, learning_rate)\n",
        "print(\"Updated w7 - \",w7_new)"
      ],
      "metadata": {
        "colab": {
          "base_uri": "https://localhost:8080/"
        },
        "id": "4-iskmCTx4zp",
        "outputId": "cd086e01-fca1-492f-f1c2-8c232cf8d387"
      },
      "execution_count": 112,
      "outputs": [
        {
          "output_type": "stream",
          "name": "stdout",
          "text": [
            "Updated w7 -  0.5113\n"
          ]
        }
      ]
    },
    {
      "cell_type": "code",
      "source": [
        "def updated_w8(y2_target, y2_final, H2_final, w8, learning_rate):\n",
        "  dE_total_dy2_final = -(y2_target - y2_final)\n",
        "  dy2_final_dy2 = y2_final * (1 - y2_final)\n",
        "  dy2_dw8 = H2_final\n",
        "\n",
        "  dE_total_dw8 = dE_total_dy2_final * dy2_final_dy2 * dy2_dw8\n",
        "\n",
        "  w8_new = round(w8 - learning_rate * dE_total_dw8, 4)\n",
        "  return w8_new"
      ],
      "metadata": {
        "id": "PI4bzA-Dx8Ua"
      },
      "execution_count": 113,
      "outputs": []
    },
    {
      "cell_type": "code",
      "source": [
        "w8_new = updated_w8(y2_target, y2_final, H2_final, w8, learning_rate)\n",
        "print(\"Updated w8 - \",w8_new)"
      ],
      "metadata": {
        "colab": {
          "base_uri": "https://localhost:8080/"
        },
        "id": "bAucUr7Qyhh5",
        "outputId": "50bee9ab-8bcf-4c40-c3d8-3b996ffed781"
      },
      "execution_count": 114,
      "outputs": [
        {
          "output_type": "stream",
          "name": "stdout",
          "text": [
            "Updated w8 -  0.5614\n"
          ]
        }
      ]
    },
    {
      "cell_type": "code",
      "source": [
        "def updated_b2(y1_target, y1_final, y2_target, y2_final, b2, learning_rate):\n",
        "  dE_total_dy1_final = -(-y1_target + y1_final)\n",
        "  dE_total_dy2_final = -(-y2_target + y2_final)\n",
        "\n",
        "  dy1_final_dy1 = y1_final * (1 - y1_final)\n",
        "  dy2_final_dy2 = y2_final * (1 - y2_final)\n",
        "\n",
        "  dy1_final_db2 = 1\n",
        "  dy2_final_db2 = 1\n",
        "\n",
        "  dE_total_db2 = (dE_total_dy1_final * dy1_final_dy1) + (dE_total_dy2_final * dy2_final_dy2)\n",
        "\n",
        "  b2_new = round(b2 - learning_rate * dE_total_db2, 4)\n",
        "  return b2_new"
      ],
      "metadata": {
        "id": "6IzEk9PRyjqV"
      },
      "execution_count": 115,
      "outputs": []
    },
    {
      "cell_type": "code",
      "source": [
        "b2_new = updated_b2(y1_target, y1_final, y2_target, y2_final, b2, learning_rate)\n",
        "print(\"Updated b2 - \",b2_new)"
      ],
      "metadata": {
        "colab": {
          "base_uri": "https://localhost:8080/"
        },
        "id": "YU7NrfPezyy9",
        "outputId": "3cc8b6c5-9c5a-43df-9178-f901de1a67a0"
      },
      "execution_count": 116,
      "outputs": [
        {
          "output_type": "stream",
          "name": "stdout",
          "text": [
            "Updated b2 -  0.6502\n"
          ]
        }
      ]
    },
    {
      "cell_type": "code",
      "source": [
        "def updated_w1(y1_final,y1_target):\n",
        "  dE1_y1_final = y1_final - y1_target\n",
        "  dE2_y2_final = -(y2_target - y2_final)\n",
        "\n",
        "  dE1_dH1_final = w5 *  dE1_y1_final\n",
        "  dE2_dH2_final = w7 * dE2_y2_final\n",
        "\n",
        "  dE_total_d\n",
        ""
      ],
      "metadata": {
        "id": "OwHDYl3Ez1yj"
      },
      "execution_count": 117,
      "outputs": []
    },
    {
      "cell_type": "code",
      "source": [
        "def update_w1(y1_target, y1_final, y2_target, y2_final, H1_final, w5, w7, x1, learning_rate, w1):\n",
        "\n",
        "  dy1_final_dy1 = y1_final * (1 - y1_final)\n",
        "  dE1_y1_final =  -(y1_target - y1_final) * dy1_final_dy1\n",
        "  dy2_final_dy2 = y2_final * (1 - y2_final)\n",
        "  dE2_y2_final = -(y2_target - y2_final) * dy2_final_dy2\n",
        "\n",
        "  dE1_dH1_final = w5 *  dE1_y1_final\n",
        "  dE2_dH2_final = w7 * dE2_y2_final\n",
        "\n",
        "  dE_total_dH_final = dE1_dH1_final + dE2_dH2_final\n",
        "\n",
        "  dH_final_dH1 = H1_final * (1 - H1_final)\n",
        "\n",
        "  dH1_dw1 = x1\n",
        "\n",
        "  dE_total_dw1 = dE_total_dH_final * dH_final_dH1 * dH1_dw1\n",
        "\n",
        "  w1_new = round(w1 - learning_rate * dE_total_dw1, 4)\n",
        "  return w1_new\n",
        "\n"
      ],
      "metadata": {
        "id": "znKzP0bA-FrQ"
      },
      "execution_count": 118,
      "outputs": []
    },
    {
      "cell_type": "code",
      "source": [
        "w1_new = update_w1(y1_target, y1_final, y2_target, y2_final, H1_final, w5, w7, x1, learning_rate, w1)\n",
        "print(\"Updated w1 - \", w1_new)"
      ],
      "metadata": {
        "colab": {
          "base_uri": "https://localhost:8080/"
        },
        "id": "gVycVNCF7v-D",
        "outputId": "3d886e46-943e-481c-8969-829444519a0f"
      },
      "execution_count": 119,
      "outputs": [
        {
          "output_type": "stream",
          "name": "stdout",
          "text": [
            "Updated w1 -  0.1498\n"
          ]
        }
      ]
    },
    {
      "cell_type": "code",
      "source": [
        "def update_w2(y1_target, y1_final, y2_target, y2_final, H1_final, w5, w7, x2, learning_rate,w2):\n",
        "  dy1_final_dy1 = y1_final * (1 - y1_final)\n",
        "  dE1_y1_final =  -(y1_target - y1_final) * dy1_final_dy1\n",
        "\n",
        "  dy2_final_dy2 = y2_final * (1 - y2_final)\n",
        "  dE2_y2_final = -(y2_target - y2_final) * dy2_final_dy2\n",
        "\n",
        "  dE1_dH1_final = w5 *  dE1_y1_final\n",
        "  dE2_dH2_final = w7 * dE2_y2_final\n",
        "\n",
        "  dE_total_dH_final = dE1_dH1_final + dE2_dH2_final\n",
        "  dH_final_dH1 = H1_final * (1 - H1_final)\n",
        "  dH1_dw2 = x2\n",
        "  dE_total_dw2 = dE_total_dH_final * dH_final_dH1 * dH1_dw2\n",
        "  w2_new = round(w2 - learning_rate * dE_total_dw2, 4)\n",
        "  return w2_new\n",
        "\n",
        "\n"
      ],
      "metadata": {
        "id": "XTyC3jD-70qC"
      },
      "execution_count": 120,
      "outputs": []
    },
    {
      "cell_type": "code",
      "source": [
        "\n",
        "w2_new = update_w2(y1_target, y1_final, y2_target, y2_final, H1_final, w5, w7, x2, learning_rate,w2)\n",
        "print(\"Updated w2 - \", w2_new)\n",
        "#"
      ],
      "metadata": {
        "colab": {
          "base_uri": "https://localhost:8080/"
        },
        "id": "Ge8mlCdv-xYQ",
        "outputId": "8a6315cb-e85c-43f2-d4d7-10133dd08d43"
      },
      "execution_count": 121,
      "outputs": [
        {
          "output_type": "stream",
          "name": "stdout",
          "text": [
            "Updated w2 -  0.1996\n"
          ]
        }
      ]
    },
    {
      "cell_type": "code",
      "source": [
        "def update_w3(y1_target, y1_final, y2_target, y2_final, H2_final, w6, w8, x1, learning_rate, w3):\n",
        "  dy1_final_dy1 = y1_final * (1 - y1_final)\n",
        "  dE1_y1_final =  -(y1_target - y1_final) * dy1_final_dy1\n",
        "  dy2_final_dy2 = y2_final * (1 - y2_final)\n",
        "  dE2_y2_final = -(y2_target - y2_final) * dy2_final_dy2\n",
        "  dE1_dH2_final = w6 *  dE1_y1_final\n",
        "  dE2_dH2_final = w8 * dE2_y2_final\n",
        "  dE_total_dH2_final = dE1_dH2_final + dE2_dH2_final\n",
        "\n",
        "  # Calculate dH2_final_dH2:\n",
        "  dH2_final_dH2 = H2_final * (1 - H2_final)\n",
        "\n",
        "  dH2_dw3 = x1\n",
        "\n",
        "  # Calculate dE_total_dw3 using the chain rule:\n",
        "  dE_total_dw3 = dE_total_dH2_final * dH2_final_dH2 * dH2_dw3\n",
        "\n",
        "  w3_new = round(w3 - learning_rate * dE_total_dw3, 4)\n",
        "  return w3_new"
      ],
      "metadata": {
        "id": "LlTXPDpP-0PG"
      },
      "execution_count": 122,
      "outputs": []
    },
    {
      "cell_type": "code",
      "source": [
        "w3_new = update_w3(y1_target, y1_final, y2_target, y2_final, H2_final, w6, w8, x1, learning_rate, w3)\n",
        "print(\"Updated w3 - \", w3_new)"
      ],
      "metadata": {
        "colab": {
          "base_uri": "https://localhost:8080/"
        },
        "id": "MnYhuI5O_eAs",
        "outputId": "67c26078-4013-4184-f4d6-1dfb30cda9d7"
      },
      "execution_count": 123,
      "outputs": [
        {
          "output_type": "stream",
          "name": "stdout",
          "text": [
            "Updated w3 -  0.2498\n"
          ]
        }
      ]
    },
    {
      "cell_type": "code",
      "source": [
        "def update_w4(y1_target, y1_final, y2_target, y2_final, H2_final, w6, w8, x2, learning_rate, w4):\n",
        "  dy1_final_dy1 = y1_final * (1 - y1_final)\n",
        "  dE1_y1_final =  -(y1_target - y1_final) * dy1_final_dy1\n",
        "  dy2_final_dy2 = y2_final * (1 - y2_final)\n",
        "  dE2_y2_final = -(y2_target - y2_final) * dy2_final_dy2\n",
        "  dE1_dH2_final = w6 *  dE1_y1_final\n",
        "  dE2_dH2_final = w8 * dE2_y2_final\n",
        "  dE_total_dH2_final = dE1_dH2_final + dE2_dH2_final\n",
        "  dH2_final_dH2 = H2_final * (1 - H2_final)\n",
        "  dH2_dw4 = x2\n",
        "  dE_total_dw4 = dE_total_dH2_final * dH2_final_dH2 * dH2_dw4\n",
        "  w4_new = round(w4 - learning_rate * dE_total_dw4, 4)\n",
        "  return w4_new\n",
        ""
      ],
      "metadata": {
        "id": "Zf4iQP-V_hDw"
      },
      "execution_count": 124,
      "outputs": []
    },
    {
      "cell_type": "code",
      "source": [
        "w4_new = update_w4(y1_target, y1_final, y2_target, y2_final, H2_final, w6, w8, x2, learning_rate, w4)\n",
        "print(\"Updated w4 - \", w4_new)\n",
        "#"
      ],
      "metadata": {
        "colab": {
          "base_uri": "https://localhost:8080/"
        },
        "id": "Q7lurgOk_wD0",
        "outputId": "e12ff646-0a63-4543-a64c-3feb3372287f"
      },
      "execution_count": 125,
      "outputs": [
        {
          "output_type": "stream",
          "name": "stdout",
          "text": [
            "Updated w4 -  0.2995\n"
          ]
        }
      ]
    },
    {
      "cell_type": "code",
      "source": [
        "def updated_b1(y1_target, y1_final, y2_target, y2_final, w5, w6, w7, w8, H1_final, H2_final, learning_rate, b1):\n",
        "  dE_dy1_final = -(y1_target - y1_final)\n",
        "  dE_dy2_final = -(y2_target - y2_final)\n",
        "\n",
        "  dy1_final_dy1 = y1_final * (1 - y1_final)\n",
        "  dy2_final_dy2 = y2_final * (1 - y2_final)\n",
        "\n",
        "  dy1_dH1_final = w5\n",
        "  dy2_dH1_final = w7\n",
        "  dy1_dH2_final = w6\n",
        "  dy2_dH2_final = w8\n",
        "\n",
        "  dH1_final_dH1 = H1_final * (1 - H1_final)\n",
        "  dH2_final_dH2 = H2_final * (1 - H2_final)\n",
        "\n",
        "  dH1_db1 = 1\n",
        "  dH2_db1 = 1\n",
        "\n",
        "\n",
        "  dE_total_dy1_final = dE_dy1_final * dy1_final_dy1\n",
        "  dE_total_dy2_final = dE_dy2_final * dy2_final_dy2\n",
        "\n",
        "  dE_total_dH1_final = dE_total_dy1_final * dy1_dH1_final + dE_total_dy2_final * dy2_dH1_final\n",
        "  dE_total_dH2_final = dE_total_dy1_final * dy1_dH2_final + dE_total_dy2_final * dy2_dH2_final\n",
        "\n",
        "  dE_total_db1 = dE_total_dH1_final * dH1_final_dH1 * dH1_db1 + dE_total_dH2_final * dH2_final_dH2 * dH2_db1\n",
        "\n",
        "\n",
        "  b1_new = round(b1 - learning_rate * dE_total_db1, 4)\n",
        "  return b1_new"
      ],
      "metadata": {
        "id": "grxidUg4_yX7"
      },
      "execution_count": 126,
      "outputs": []
    },
    {
      "cell_type": "code",
      "source": [
        "b1_new = updated_b1(y1_target, y1_final, y2_target, y2_final, w5, w6, w7, w8, H1_final, H2_final, learning_rate, b1)\n",
        "print(\"Updated b1 - \", b1_new)"
      ],
      "metadata": {
        "colab": {
          "base_uri": "https://localhost:8080/"
        },
        "id": "jvW_itQbCR5t",
        "outputId": "f309e4e5-e3ab-4dd9-87e9-4e7cbe43723e"
      },
      "execution_count": 127,
      "outputs": [
        {
          "output_type": "stream",
          "name": "stdout",
          "text": [
            "Updated b1 -  0.3406\n"
          ]
        }
      ]
    },
    {
      "cell_type": "code",
      "source": [
        "y1_final_new ="
      ],
      "metadata": {
        "colab": {
          "base_uri": "https://localhost:8080/"
        },
        "id": "nmfqjR1PCgMB",
        "outputId": "ff99be5b-f2a3-4ee0-eebb-a61e6e6b663b"
      },
      "execution_count": 128,
      "outputs": [
        {
          "output_type": "stream",
          "name": "stdout",
          "text": [
            "Updated y1 -  0.7514\n",
            "Updated y2 -  0.7729\n"
          ]
        }
      ]
    },
    {
      "cell_type": "code",
      "source": [],
      "metadata": {
        "id": "SwPGzN-lGMql"
      },
      "execution_count": 128,
      "outputs": []
    }
  ]
}